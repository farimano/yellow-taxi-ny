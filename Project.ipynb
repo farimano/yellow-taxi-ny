{
 "cells": [
  {
   "cell_type": "code",
   "execution_count": null,
   "metadata": {},
   "outputs": [],
   "source": [
    "!pip install pandas\n",
    "!pip install numpy\n",
    "!pip install matplotlib\n",
    "!pip install folium"
   ]
  },
  {
   "cell_type": "code",
   "execution_count": null,
   "metadata": {},
   "outputs": [],
   "source": [
    "import pandas as pd\n",
    "import numpy as np\n",
    "import matplotlib.pyplot as plt\n",
    "\n",
    "import folium\n",
    "from folium.plugins import HeatMap\n",
    "\n",
    "import warnings\n",
    "warnings.filterwarnings('ignore')\n",
    "\n",
    "from ipywidgets import interact"
   ]
  },
  {
   "cell_type": "code",
   "execution_count": null,
   "metadata": {},
   "outputs": [],
   "source": [
    "lon_west = -74.25559\n",
    "lon_east = -73.70001\n",
    "lat_south = 40.49612\n",
    "lat_north = 40.91553"
   ]
  },
  {
   "cell_type": "code",
   "execution_count": null,
   "metadata": {},
   "outputs": [],
   "source": [
    "data = pd.read_csv('main_table.csv')"
   ]
  },
  {
   "cell_type": "code",
   "execution_count": null,
   "metadata": {},
   "outputs": [],
   "source": [
    "feats = pd.read_csv('feature_importance.csv', index_col='name')"
   ]
  },
  {
   "cell_type": "code",
   "execution_count": null,
   "metadata": {},
   "outputs": [],
   "source": [
    "regions = pd.read_csv('regions.csv')\n",
    "regions_1 = regions.copy()\n",
    "regions_2 = regions.copy()\n",
    "regions_3 = regions.copy()\n",
    "regions_4 = regions.copy()\n",
    "regions_5 = regions.copy()\n",
    "regions_6 = regions.copy()\n",
    "regions_7 = regions.copy()"
   ]
  },
  {
   "cell_type": "code",
   "execution_count": null,
   "metadata": {},
   "outputs": [],
   "source": [
    "def func_1(day, hour):\n",
    "    work_data = data[(data.day==day) & (data.hour==hour)]\n",
    "    regions_1['trips'] = work_data.reset_index().real\n",
    "    regions_2['trips'] = work_data.reset_index()['pred_1']\n",
    "    regions_3['trips'] = work_data.reset_index()['pred_2']\n",
    "    regions_4['trips'] = work_data.reset_index()['pred_3']\n",
    "    regions_5['trips'] = work_data.reset_index()['pred_4']\n",
    "    regions_6['trips'] = work_data.reset_index()['pred_5']\n",
    "    regions_7['trips'] = work_data.reset_index()['pred_6']\n",
    "\n",
    "    m = folium.Map(location=((lat_south+lat_north)/2, (lon_east+lon_west)/2), zoom_start=11, )\n",
    "\n",
    "    base_map = folium.FeatureGroup(name='Basemap', overlay=True, control=False)\n",
    "    folium.TileLayer(tiles='OpenStreetMap').add_to(base_map)\n",
    "    base_map.add_to(m)\n",
    "\n",
    "    HeatMap(regions_1.values.tolist(), radius=15).add_to(folium.FeatureGroup(name='Real', overlay=False).add_to(m))\n",
    "\n",
    "    if day < 30 or hour < 19:\n",
    "        HeatMap(regions_2.values.tolist(), radius=15).add_to(folium.FeatureGroup(name='1-hour-prediction', show=False, overlay=False).add_to(m))\n",
    "    \n",
    "    if (day < 30 or hour < 20) and (day > 1 or hour > 0):\n",
    "        HeatMap(regions_3.values.tolist(), radius=15).add_to(folium.FeatureGroup(name='2-hour-prediction', show=False, overlay=False).add_to(m))\n",
    "    \n",
    "    if (day < 30 or hour < 21) and (day > 1 or hour > 1):\n",
    "        HeatMap(regions_4.values.tolist(), radius=15).add_to(folium.FeatureGroup(name='3-hour-prediction', show=False, overlay=False).add_to(m))\n",
    "    \n",
    "    if (day < 30 or hour < 22) and (day > 1 or hour > 2):\n",
    "        HeatMap(regions_5.values.tolist(), radius=15).add_to(folium.FeatureGroup(name='4-hour-prediction', show=False, overlay=False).add_to(m))\n",
    "    \n",
    "    \n",
    "    if (day < 30 or hour < 23) and (day > 1 or hour > 3):\n",
    "        HeatMap(regions_6.values.tolist(), radius=15).add_to(folium.FeatureGroup(name='5-hour-prediction', show=False, overlay=False).add_to(m))\n",
    "    \n",
    "    \n",
    "    if day > 1 or hour > 4:\n",
    "        HeatMap(regions_7.values.tolist(), radius=15).add_to(folium.FeatureGroup(name='6-hour-prediction', show=False, overlay=False).add_to(m))\n",
    "\n",
    "    folium.LayerControl().add_to(m)\n",
    "    return m"
   ]
  },
  {
   "cell_type": "code",
   "execution_count": null,
   "metadata": {},
   "outputs": [],
   "source": [
    "def func_2(pred_hour, region):\n",
    "    ax = data[data.region==region][[f'pred_{pred_hour}', 'real']].plot(figsize=(20, 7));"
   ]
  },
  {
   "cell_type": "code",
   "execution_count": null,
   "metadata": {},
   "outputs": [],
   "source": [
    "def func_3(feature):\n",
    "    ax = feats.T.set_index(pd.Index(range(1, 7)))[feature].plot(figsize=(15, 7))\n",
    "    ax.set_xlabel('Hour of prediction')\n",
    "    ax.set_ylabel('Importance');"
   ]
  },
  {
   "cell_type": "code",
   "execution_count": null,
   "metadata": {},
   "outputs": [],
   "source": [
    "interact(func_1, day=(1, 30, 1), hour=(0, 23, 1));"
   ]
  },
  {
   "cell_type": "markdown",
   "metadata": {},
   "source": [
    "Пример аномального региона: 1734"
   ]
  },
  {
   "cell_type": "code",
   "execution_count": null,
   "metadata": {},
   "outputs": [],
   "source": [
    "interact(func_2, pred_hour=(1, 6, 1), region=set(data.region));"
   ]
  },
  {
   "cell_type": "code",
   "execution_count": null,
   "metadata": {},
   "outputs": [],
   "source": [
    "interact(func_3, feature = set(feats.index));"
   ]
  }
 ],
 "metadata": {
  "kernelspec": {
   "display_name": "Python 3",
   "language": "python",
   "name": "python3"
  },
  "language_info": {
   "codemirror_mode": {
    "name": "ipython",
    "version": 3
   },
   "file_extension": ".py",
   "mimetype": "text/x-python",
   "name": "python",
   "nbconvert_exporter": "python",
   "pygments_lexer": "ipython3",
   "version": "3.8.5"
  }
 },
 "nbformat": 4,
 "nbformat_minor": 4
}
